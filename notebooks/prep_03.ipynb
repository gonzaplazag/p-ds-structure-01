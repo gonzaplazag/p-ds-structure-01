{
 "cells": [
  {
   "cell_type": "code",
   "execution_count": 1,
   "metadata": {},
   "outputs": [],
   "source": [
    "# An advance with respect prep_02, adding Age variable"
   ]
  },
  {
   "cell_type": "code",
   "execution_count": 2,
   "metadata": {},
   "outputs": [],
   "source": [
    "import pandas as pd\n",
    "from dotenv import load_dotenv\n",
    "import os\n",
    "from sklearn.model_selection import train_test_split\n",
    "from sklearn.preprocessing import OneHotEncoder\n",
    "from datetime import datetime\n",
    "import pickle\n",
    "from sklearn.impute import SimpleImputer\n",
    "\n",
    "load_dotenv()\n",
    "\n",
    "os.chdir(os.getenv('ROOT_DIR'))\n",
    "\n",
    "from src import utils"
   ]
  },
  {
   "cell_type": "code",
   "execution_count": 3,
   "metadata": {},
   "outputs": [
    {
     "name": "stdout",
     "output_type": "stream",
     "text": [
      "data/raw/train.csv\n"
     ]
    }
   ],
   "source": [
    "# --- PARAMS --- #\n",
    "train_path = os.getenv('DF_TRAIN_PATH')\n",
    "print(train_path)"
   ]
  },
  {
   "cell_type": "code",
   "execution_count": 4,
   "metadata": {},
   "outputs": [
    {
     "data": {
      "text/html": [
       "<div>\n",
       "<style scoped>\n",
       "    .dataframe tbody tr th:only-of-type {\n",
       "        vertical-align: middle;\n",
       "    }\n",
       "\n",
       "    .dataframe tbody tr th {\n",
       "        vertical-align: top;\n",
       "    }\n",
       "\n",
       "    .dataframe thead th {\n",
       "        text-align: right;\n",
       "    }\n",
       "</style>\n",
       "<table border=\"1\" class=\"dataframe\">\n",
       "  <thead>\n",
       "    <tr style=\"text-align: right;\">\n",
       "      <th></th>\n",
       "      <th>PassengerId</th>\n",
       "      <th>Survived</th>\n",
       "      <th>Pclass</th>\n",
       "      <th>Name</th>\n",
       "      <th>Sex</th>\n",
       "      <th>Age</th>\n",
       "      <th>SibSp</th>\n",
       "      <th>Parch</th>\n",
       "      <th>Ticket</th>\n",
       "      <th>Fare</th>\n",
       "      <th>Cabin</th>\n",
       "      <th>Embarked</th>\n",
       "    </tr>\n",
       "  </thead>\n",
       "  <tbody>\n",
       "    <tr>\n",
       "      <th>0</th>\n",
       "      <td>1</td>\n",
       "      <td>0</td>\n",
       "      <td>3</td>\n",
       "      <td>Braund, Mr. Owen Harris</td>\n",
       "      <td>male</td>\n",
       "      <td>22.0</td>\n",
       "      <td>1</td>\n",
       "      <td>0</td>\n",
       "      <td>A/5 21171</td>\n",
       "      <td>7.2500</td>\n",
       "      <td>NaN</td>\n",
       "      <td>S</td>\n",
       "    </tr>\n",
       "    <tr>\n",
       "      <th>1</th>\n",
       "      <td>2</td>\n",
       "      <td>1</td>\n",
       "      <td>1</td>\n",
       "      <td>Cumings, Mrs. John Bradley (Florence Briggs Th...</td>\n",
       "      <td>female</td>\n",
       "      <td>38.0</td>\n",
       "      <td>1</td>\n",
       "      <td>0</td>\n",
       "      <td>PC 17599</td>\n",
       "      <td>71.2833</td>\n",
       "      <td>C85</td>\n",
       "      <td>C</td>\n",
       "    </tr>\n",
       "  </tbody>\n",
       "</table>\n",
       "</div>"
      ],
      "text/plain": [
       "   PassengerId  Survived  Pclass  \\\n",
       "0            1         0       3   \n",
       "1            2         1       1   \n",
       "\n",
       "                                                Name     Sex   Age  SibSp  \\\n",
       "0                            Braund, Mr. Owen Harris    male  22.0      1   \n",
       "1  Cumings, Mrs. John Bradley (Florence Briggs Th...  female  38.0      1   \n",
       "\n",
       "   Parch     Ticket     Fare Cabin Embarked  \n",
       "0      0  A/5 21171   7.2500   NaN        S  \n",
       "1      0   PC 17599  71.2833   C85        C  "
      ]
     },
     "execution_count": 4,
     "metadata": {},
     "output_type": "execute_result"
    }
   ],
   "source": [
    "# --- LOAD DATA --- #\n",
    "train_data = pd.read_csv(train_path)\n",
    "train_data.head(2)"
   ]
  },
  {
   "cell_type": "code",
   "execution_count": 5,
   "metadata": {},
   "outputs": [
    {
     "name": "stdout",
     "output_type": "stream",
     "text": [
      "(712, 3) (179, 3) (712, 1) (179, 1)\n"
     ]
    }
   ],
   "source": [
    "# --- TRAIN TEST SPLIT --- #\n",
    "features = ['Pclass', 'Sex', 'Age']\n",
    "target = ['Survived']\n",
    "x_train, x_test, y_train, y_test = train_test_split(train_data[features], train_data[target], test_size=0.2, random_state=0)\n",
    "print(x_train.shape, x_test.shape, y_train.shape, y_test.shape)"
   ]
  },
  {
   "cell_type": "code",
   "execution_count": 6,
   "metadata": {},
   "outputs": [
    {
     "name": "stdout",
     "output_type": "stream",
     "text": [
      "Encoder sex model saved at artifacts/prep_03\n"
     ]
    },
    {
     "data": {
      "text/html": [
       "<div>\n",
       "<style scoped>\n",
       "    .dataframe tbody tr th:only-of-type {\n",
       "        vertical-align: middle;\n",
       "    }\n",
       "\n",
       "    .dataframe tbody tr th {\n",
       "        vertical-align: top;\n",
       "    }\n",
       "\n",
       "    .dataframe thead th {\n",
       "        text-align: right;\n",
       "    }\n",
       "</style>\n",
       "<table border=\"1\" class=\"dataframe\">\n",
       "  <thead>\n",
       "    <tr style=\"text-align: right;\">\n",
       "      <th></th>\n",
       "      <th>Pclass</th>\n",
       "      <th>Age</th>\n",
       "      <th>Sex_female</th>\n",
       "      <th>Sex_male</th>\n",
       "    </tr>\n",
       "  </thead>\n",
       "  <tbody>\n",
       "    <tr>\n",
       "      <th>140</th>\n",
       "      <td>3</td>\n",
       "      <td>NaN</td>\n",
       "      <td>1.0</td>\n",
       "      <td>0.0</td>\n",
       "    </tr>\n",
       "    <tr>\n",
       "      <th>439</th>\n",
       "      <td>2</td>\n",
       "      <td>31.0</td>\n",
       "      <td>0.0</td>\n",
       "      <td>1.0</td>\n",
       "    </tr>\n",
       "  </tbody>\n",
       "</table>\n",
       "</div>"
      ],
      "text/plain": [
       "     Pclass   Age  Sex_female  Sex_male\n",
       "140       3   NaN         1.0       0.0\n",
       "439       2  31.0         0.0       1.0"
      ]
     },
     "execution_count": 6,
     "metadata": {},
     "output_type": "execute_result"
    }
   ],
   "source": [
    "# --- SEX FEATURE PREPROCESSING --- #\n",
    "\n",
    "# fit encoder\n",
    "encoder = OneHotEncoder(handle_unknown='ignore', sparse_output=False)\n",
    "encoder_sex_model = encoder.fit(x_train['Sex'].to_numpy().reshape(-1, 1))\n",
    "\n",
    "# save\n",
    "artifact_path = os.path.join(os.getenv('ARTIFACTS_PATH'), utils.get_nb_name())\n",
    "os.makedirs(artifact_path, exist_ok=True)\n",
    "\n",
    "with open(os.path.join(artifact_path, 'encoder_sex_model.pkl'), 'wb') as f:\n",
    "    pickle.dump(encoder_sex_model, f)\n",
    "    \n",
    "print(f'Encoder sex model saved at {artifact_path}')\n",
    "\n",
    "# transform\n",
    "with open(os.path.join(artifact_path, 'encoder_sex_model.pkl'), 'rb') as f:\n",
    "\tencoder_sex_model = pickle.load(f)\n",
    "      \n",
    "x_train[encoder_sex_model.get_feature_names_out(['Sex'])] = encoder_sex_model.transform(x_train['Sex'].to_numpy().reshape(-1, 1))\n",
    "x_train.drop('Sex', axis=1, inplace=True)\n",
    "\n",
    "x_test[encoder_sex_model.get_feature_names_out(['Sex'])] = encoder_sex_model.transform(x_test['Sex'].to_numpy().reshape(-1, 1))\n",
    "x_test.drop('Sex', axis=1, inplace=True)\n",
    "\n",
    "x_train.head(2)"
   ]
  },
  {
   "cell_type": "code",
   "execution_count": 7,
   "metadata": {},
   "outputs": [
    {
     "name": "stdout",
     "output_type": "stream",
     "text": [
      "Encoder pclass model saved at artifacts/prep_03\n"
     ]
    },
    {
     "data": {
      "text/html": [
       "<div>\n",
       "<style scoped>\n",
       "    .dataframe tbody tr th:only-of-type {\n",
       "        vertical-align: middle;\n",
       "    }\n",
       "\n",
       "    .dataframe tbody tr th {\n",
       "        vertical-align: top;\n",
       "    }\n",
       "\n",
       "    .dataframe thead th {\n",
       "        text-align: right;\n",
       "    }\n",
       "</style>\n",
       "<table border=\"1\" class=\"dataframe\">\n",
       "  <thead>\n",
       "    <tr style=\"text-align: right;\">\n",
       "      <th></th>\n",
       "      <th>Age</th>\n",
       "      <th>Sex_female</th>\n",
       "      <th>Sex_male</th>\n",
       "      <th>Pclass_1</th>\n",
       "      <th>Pclass_2</th>\n",
       "      <th>Pclass_3</th>\n",
       "    </tr>\n",
       "  </thead>\n",
       "  <tbody>\n",
       "    <tr>\n",
       "      <th>140</th>\n",
       "      <td>NaN</td>\n",
       "      <td>1.0</td>\n",
       "      <td>0.0</td>\n",
       "      <td>0.0</td>\n",
       "      <td>0.0</td>\n",
       "      <td>1.0</td>\n",
       "    </tr>\n",
       "    <tr>\n",
       "      <th>439</th>\n",
       "      <td>31.0</td>\n",
       "      <td>0.0</td>\n",
       "      <td>1.0</td>\n",
       "      <td>0.0</td>\n",
       "      <td>1.0</td>\n",
       "      <td>0.0</td>\n",
       "    </tr>\n",
       "  </tbody>\n",
       "</table>\n",
       "</div>"
      ],
      "text/plain": [
       "      Age  Sex_female  Sex_male  Pclass_1  Pclass_2  Pclass_3\n",
       "140   NaN         1.0       0.0       0.0       0.0       1.0\n",
       "439  31.0         0.0       1.0       0.0       1.0       0.0"
      ]
     },
     "execution_count": 7,
     "metadata": {},
     "output_type": "execute_result"
    }
   ],
   "source": [
    "# --- PCLASS FEATURE PREPROCESSING --- #\n",
    "encoder = OneHotEncoder(handle_unknown='ignore', sparse_output=False)\n",
    "encoder_pclass_model = encoder.fit(x_train['Pclass'].to_numpy().reshape(-1, 1))\n",
    "\n",
    "# save\n",
    "artifact_path = os.path.join(os.getenv('ARTIFACTS_PATH'), utils.get_nb_name())\n",
    "os.makedirs(artifact_path, exist_ok=True)\n",
    "\n",
    "with open(os.path.join(artifact_path, 'encoder_pclass_model.pkl'), 'wb') as f:\n",
    "\tpickle.dump(encoder_pclass_model, f)\n",
    "\n",
    "print(f'Encoder pclass model saved at {artifact_path}')\n",
    "\n",
    "# transform\n",
    "with open(os.path.join(artifact_path, 'encoder_pclass_model.pkl'), 'rb') as f:\n",
    "\tencoder_pclass_model = pickle.load(f)\n",
    "\n",
    "x_train[encoder_pclass_model.get_feature_names_out(['Pclass'])] = encoder_pclass_model.transform(x_train['Pclass'].to_numpy().reshape(-1, 1))\n",
    "x_train.drop('Pclass', axis=1, inplace=True)\n",
    "\n",
    "x_test[encoder_pclass_model.get_feature_names_out(['Pclass'])] = encoder_pclass_model.transform(x_test['Pclass'].to_numpy().reshape(-1, 1))\n",
    "x_test.drop('Pclass', axis=1, inplace=True)\n",
    "\n",
    "x_train.head(2)"
   ]
  },
  {
   "cell_type": "code",
   "execution_count": 8,
   "metadata": {},
   "outputs": [
    {
     "data": {
      "text/html": [
       "<div>\n",
       "<style scoped>\n",
       "    .dataframe tbody tr th:only-of-type {\n",
       "        vertical-align: middle;\n",
       "    }\n",
       "\n",
       "    .dataframe tbody tr th {\n",
       "        vertical-align: top;\n",
       "    }\n",
       "\n",
       "    .dataframe thead th {\n",
       "        text-align: right;\n",
       "    }\n",
       "</style>\n",
       "<table border=\"1\" class=\"dataframe\">\n",
       "  <thead>\n",
       "    <tr style=\"text-align: right;\">\n",
       "      <th></th>\n",
       "      <th>Age</th>\n",
       "      <th>Sex_female</th>\n",
       "      <th>Sex_male</th>\n",
       "      <th>Pclass_1</th>\n",
       "      <th>Pclass_2</th>\n",
       "      <th>Pclass_3</th>\n",
       "    </tr>\n",
       "  </thead>\n",
       "  <tbody>\n",
       "    <tr>\n",
       "      <th>140</th>\n",
       "      <td>29.745184</td>\n",
       "      <td>1.0</td>\n",
       "      <td>0.0</td>\n",
       "      <td>0.0</td>\n",
       "      <td>0.0</td>\n",
       "      <td>1.0</td>\n",
       "    </tr>\n",
       "    <tr>\n",
       "      <th>439</th>\n",
       "      <td>31.000000</td>\n",
       "      <td>0.0</td>\n",
       "      <td>1.0</td>\n",
       "      <td>0.0</td>\n",
       "      <td>1.0</td>\n",
       "      <td>0.0</td>\n",
       "    </tr>\n",
       "  </tbody>\n",
       "</table>\n",
       "</div>"
      ],
      "text/plain": [
       "           Age  Sex_female  Sex_male  Pclass_1  Pclass_2  Pclass_3\n",
       "140  29.745184         1.0       0.0       0.0       0.0       1.0\n",
       "439  31.000000         0.0       1.0       0.0       1.0       0.0"
      ]
     },
     "execution_count": 8,
     "metadata": {},
     "output_type": "execute_result"
    }
   ],
   "source": [
    "# --- AGE FEATURE PREPROCESSING --- # \n",
    "\n",
    "imputer_age_mean = SimpleImputer(strategy='mean')\n",
    "imputer_age_mean.fit(x_train['Age'].values.reshape(-1, 1))\n",
    "\n",
    "artifact_path = os.path.join(os.getenv('ARTIFACTS_PATH'), utils.get_nb_name())\n",
    "os.makedirs(artifact_path, exist_ok=True)\n",
    "\n",
    "with open(os.path.join(artifact_path, 'imputer_age_mean.pkl'), 'wb') as f:\n",
    "    pickle.dump(imputer_age_mean, f)\n",
    "    \n",
    "x_train['Age'] = imputer_age_mean.transform(x_train['Age'].values.reshape(-1, 1))\n",
    "x_test['Age'] = imputer_age_mean.transform(x_test['Age'].values.reshape(-1, 1))\n",
    "\n",
    "x_train.head(2)\n"
   ]
  },
  {
   "cell_type": "code",
   "execution_count": 9,
   "metadata": {},
   "outputs": [
    {
     "name": "stdout",
     "output_type": "stream",
     "text": [
      "Data saved in data/processed/prep_03\n",
      "Timestamp: 2024-10-16 07:02:25\n"
     ]
    }
   ],
   "source": [
    "# --- SAVE DATA --- #\n",
    "utils.save_prep_data_4(x_train, x_test, y_train, y_test)\n",
    "print(f'Timestamp: {datetime.now().strftime(\"%Y-%m-%d %H:%M:%S\")}')"
   ]
  }
 ],
 "metadata": {
  "kernelspec": {
   "display_name": "venv",
   "language": "python",
   "name": "python3"
  },
  "language_info": {
   "codemirror_mode": {
    "name": "ipython",
    "version": 3
   },
   "file_extension": ".py",
   "mimetype": "text/x-python",
   "name": "python",
   "nbconvert_exporter": "python",
   "pygments_lexer": "ipython3",
   "version": "3.10.12"
  }
 },
 "nbformat": 4,
 "nbformat_minor": 2
}
