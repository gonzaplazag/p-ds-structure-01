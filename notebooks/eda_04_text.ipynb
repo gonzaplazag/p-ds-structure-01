{
 "cells": [
  {
   "cell_type": "code",
   "execution_count": 100,
   "metadata": {},
   "outputs": [],
   "source": [
    "import pandas as pd\n",
    "from dotenv import load_dotenv\n",
    "import os\n",
    "import matplotlib.pyplot as plt\n",
    "import seaborn as sns\n",
    "\n",
    "# Set the style for the plots\n",
    "sns.set(style=\"whitegrid\", palette=\"pastel\", color_codes=True)\n",
    "\n",
    "load_dotenv()\n",
    "os.chdir(os.getenv(\"ROOT_DIR\"))"
   ]
  },
  {
   "cell_type": "code",
   "execution_count": 101,
   "metadata": {},
   "outputs": [
    {
     "name": "stdout",
     "output_type": "stream",
     "text": [
      "data/raw/train.csv\n",
      "data/raw/test.csv\n"
     ]
    }
   ],
   "source": [
    "# --- PARAMS --- #\n",
    "train_data_path = os.getenv(\"DF_TRAIN_PATH\")\n",
    "test_data_path = os.getenv(\"DF_NEW_DATA_PATH\")\n",
    "\n",
    "print(train_data_path)\n",
    "print(test_data_path)"
   ]
  },
  {
   "cell_type": "code",
   "execution_count": 102,
   "metadata": {},
   "outputs": [
    {
     "data": {
      "text/html": [
       "<div>\n",
       "<style scoped>\n",
       "    .dataframe tbody tr th:only-of-type {\n",
       "        vertical-align: middle;\n",
       "    }\n",
       "\n",
       "    .dataframe tbody tr th {\n",
       "        vertical-align: top;\n",
       "    }\n",
       "\n",
       "    .dataframe thead th {\n",
       "        text-align: right;\n",
       "    }\n",
       "</style>\n",
       "<table border=\"1\" class=\"dataframe\">\n",
       "  <thead>\n",
       "    <tr style=\"text-align: right;\">\n",
       "      <th></th>\n",
       "      <th>PassengerId</th>\n",
       "      <th>Survived</th>\n",
       "      <th>Pclass</th>\n",
       "      <th>Name</th>\n",
       "      <th>Sex</th>\n",
       "      <th>Age</th>\n",
       "      <th>SibSp</th>\n",
       "      <th>Parch</th>\n",
       "      <th>Ticket</th>\n",
       "      <th>Fare</th>\n",
       "      <th>Cabin</th>\n",
       "      <th>Embarked</th>\n",
       "    </tr>\n",
       "  </thead>\n",
       "  <tbody>\n",
       "    <tr>\n",
       "      <th>0</th>\n",
       "      <td>1</td>\n",
       "      <td>0</td>\n",
       "      <td>3</td>\n",
       "      <td>Braund, Mr. Owen Harris</td>\n",
       "      <td>male</td>\n",
       "      <td>22.0</td>\n",
       "      <td>1</td>\n",
       "      <td>0</td>\n",
       "      <td>A/5 21171</td>\n",
       "      <td>7.2500</td>\n",
       "      <td>NaN</td>\n",
       "      <td>S</td>\n",
       "    </tr>\n",
       "    <tr>\n",
       "      <th>1</th>\n",
       "      <td>2</td>\n",
       "      <td>1</td>\n",
       "      <td>1</td>\n",
       "      <td>Cumings, Mrs. John Bradley (Florence Briggs Th...</td>\n",
       "      <td>female</td>\n",
       "      <td>38.0</td>\n",
       "      <td>1</td>\n",
       "      <td>0</td>\n",
       "      <td>PC 17599</td>\n",
       "      <td>71.2833</td>\n",
       "      <td>C85</td>\n",
       "      <td>C</td>\n",
       "    </tr>\n",
       "  </tbody>\n",
       "</table>\n",
       "</div>"
      ],
      "text/plain": [
       "   PassengerId  Survived  Pclass  \\\n",
       "0            1         0       3   \n",
       "1            2         1       1   \n",
       "\n",
       "                                                Name     Sex   Age  SibSp  \\\n",
       "0                            Braund, Mr. Owen Harris    male  22.0      1   \n",
       "1  Cumings, Mrs. John Bradley (Florence Briggs Th...  female  38.0      1   \n",
       "\n",
       "   Parch     Ticket     Fare Cabin Embarked  \n",
       "0      0  A/5 21171   7.2500   NaN        S  \n",
       "1      0   PC 17599  71.2833   C85        C  "
      ]
     },
     "execution_count": 102,
     "metadata": {},
     "output_type": "execute_result"
    }
   ],
   "source": [
    "# --- LOAD DATA --- #\n",
    "train_data = pd.read_csv(train_data_path)\n",
    "test_data = pd.read_csv(test_data_path)\n",
    "\n",
    "train_data.head(2)"
   ]
  },
  {
   "cell_type": "code",
   "execution_count": 103,
   "metadata": {},
   "outputs": [],
   "source": [
    "# Project\n",
    "### 1. Check consistency\n",
    "### 2. Parsing: Get titles\n",
    "### 3. Preprocessing titles\n",
    "### 4. Check correlation with target\n",
    "### 5. Multivariate Analysis"
   ]
  },
  {
   "cell_type": "markdown",
   "metadata": {},
   "source": [
    "### Check consistency"
   ]
  },
  {
   "cell_type": "code",
   "execution_count": 104,
   "metadata": {},
   "outputs": [
    {
     "name": "stdout",
     "output_type": "stream",
     "text": [
      "0 0\n"
     ]
    }
   ],
   "source": [
    "print(train_data['Name'].isna().sum(), test_data['Name'].isna().sum())\n",
    "\n",
    "# not nan values"
   ]
  },
  {
   "cell_type": "code",
   "execution_count": 105,
   "metadata": {},
   "outputs": [
    {
     "name": "stdout",
     "output_type": "stream",
     "text": [
      "891 418\n"
     ]
    }
   ],
   "source": [
    "print(train_data['Name'].nunique(), test_data['Name'].nunique())\n",
    "\n",
    "# all unique values"
   ]
  },
  {
   "cell_type": "code",
   "execution_count": 106,
   "metadata": {},
   "outputs": [
    {
     "data": {
      "text/plain": [
       "800                                Ponesell, Mr. Martin\n",
       "276                   Lindblom, Miss. Augusta Charlotta\n",
       "366    Warren, Mrs. Frank Manley (Anna Sophia Atkinson)\n",
       "55                                    Woolner, Mr. Hugh\n",
       "727                            Mannion, Miss. Margareth\n",
       "237                    Collyer, Miss. Marjorie \"Lottie\"\n",
       "561                                   Sivic, Mr. Husein\n",
       "333                     Vander Planke, Mr. Leo Edmondus\n",
       "56                                    Rugg, Miss. Emily\n",
       "322                           Slayter, Miss. Hilda Mary\n",
       "Name: Name, dtype: object"
      ]
     },
     "execution_count": 106,
     "metadata": {},
     "output_type": "execute_result"
    }
   ],
   "source": [
    "train_data['Name'].sample(10)"
   ]
  },
  {
   "cell_type": "markdown",
   "metadata": {},
   "source": [
    "### Parsing: get titles"
   ]
  },
  {
   "cell_type": "code",
   "execution_count": 107,
   "metadata": {},
   "outputs": [
    {
     "data": {
      "text/html": [
       "<div>\n",
       "<style scoped>\n",
       "    .dataframe tbody tr th:only-of-type {\n",
       "        vertical-align: middle;\n",
       "    }\n",
       "\n",
       "    .dataframe tbody tr th {\n",
       "        vertical-align: top;\n",
       "    }\n",
       "\n",
       "    .dataframe thead th {\n",
       "        text-align: right;\n",
       "    }\n",
       "</style>\n",
       "<table border=\"1\" class=\"dataframe\">\n",
       "  <thead>\n",
       "    <tr style=\"text-align: right;\">\n",
       "      <th></th>\n",
       "      <th>PassengerId</th>\n",
       "      <th>Survived</th>\n",
       "      <th>Pclass</th>\n",
       "      <th>Name</th>\n",
       "      <th>Sex</th>\n",
       "      <th>Age</th>\n",
       "      <th>SibSp</th>\n",
       "      <th>Parch</th>\n",
       "      <th>Ticket</th>\n",
       "      <th>Fare</th>\n",
       "      <th>Cabin</th>\n",
       "      <th>Embarked</th>\n",
       "      <th>title</th>\n",
       "    </tr>\n",
       "  </thead>\n",
       "  <tbody>\n",
       "    <tr>\n",
       "      <th>0</th>\n",
       "      <td>1</td>\n",
       "      <td>0</td>\n",
       "      <td>3</td>\n",
       "      <td>Braund, Mr. Owen Harris</td>\n",
       "      <td>male</td>\n",
       "      <td>22.0</td>\n",
       "      <td>1</td>\n",
       "      <td>0</td>\n",
       "      <td>A/5 21171</td>\n",
       "      <td>7.2500</td>\n",
       "      <td>NaN</td>\n",
       "      <td>S</td>\n",
       "      <td>Mr</td>\n",
       "    </tr>\n",
       "    <tr>\n",
       "      <th>1</th>\n",
       "      <td>2</td>\n",
       "      <td>1</td>\n",
       "      <td>1</td>\n",
       "      <td>Cumings, Mrs. John Bradley (Florence Briggs Th...</td>\n",
       "      <td>female</td>\n",
       "      <td>38.0</td>\n",
       "      <td>1</td>\n",
       "      <td>0</td>\n",
       "      <td>PC 17599</td>\n",
       "      <td>71.2833</td>\n",
       "      <td>C85</td>\n",
       "      <td>C</td>\n",
       "      <td>Mrs</td>\n",
       "    </tr>\n",
       "  </tbody>\n",
       "</table>\n",
       "</div>"
      ],
      "text/plain": [
       "   PassengerId  Survived  Pclass  \\\n",
       "0            1         0       3   \n",
       "1            2         1       1   \n",
       "\n",
       "                                                Name     Sex   Age  SibSp  \\\n",
       "0                            Braund, Mr. Owen Harris    male  22.0      1   \n",
       "1  Cumings, Mrs. John Bradley (Florence Briggs Th...  female  38.0      1   \n",
       "\n",
       "   Parch     Ticket     Fare Cabin Embarked title  \n",
       "0      0  A/5 21171   7.2500   NaN        S    Mr  \n",
       "1      0   PC 17599  71.2833   C85        C   Mrs  "
      ]
     },
     "execution_count": 107,
     "metadata": {},
     "output_type": "execute_result"
    }
   ],
   "source": [
    "regex_title = r',\\s*(\\w*)'\n",
    "train_data['title'] = train_data['Name'].str.extract(regex_title)\n",
    "train_data.head(2)"
   ]
  },
  {
   "cell_type": "markdown",
   "metadata": {},
   "source": [
    "### 3. Preprocessing titles"
   ]
  },
  {
   "cell_type": "code",
   "execution_count": 108,
   "metadata": {},
   "outputs": [
    {
     "data": {
      "text/plain": [
       "title\n",
       "Mr          517\n",
       "Miss        182\n",
       "Mrs         125\n",
       "Master       40\n",
       "Dr            7\n",
       "Rev           6\n",
       "Col           2\n",
       "Mlle          2\n",
       "Major         2\n",
       "Ms            1\n",
       "Mme           1\n",
       "Don           1\n",
       "Lady          1\n",
       "Sir           1\n",
       "Capt          1\n",
       "the           1\n",
       "Jonkheer      1\n",
       "Name: count, dtype: int64"
      ]
     },
     "execution_count": 108,
     "metadata": {},
     "output_type": "execute_result"
    }
   ],
   "source": [
    "train_data.title.value_counts()"
   ]
  },
  {
   "cell_type": "code",
   "execution_count": 109,
   "metadata": {},
   "outputs": [
    {
     "data": {
      "text/plain": [
       "array(['Mr', 'Mrs', 'Miss', 'Master', 'Don', 'Rev', 'Dr', 'Mme', 'Ms',\n",
       "       'Major', 'Lady', 'Sir', 'Mlle', 'Col', 'Capt', 'the', 'Jonkheer'],\n",
       "      dtype=object)"
      ]
     },
     "execution_count": 109,
     "metadata": {},
     "output_type": "execute_result"
    }
   ],
   "source": [
    "train_data.title.unique()"
   ]
  },
  {
   "cell_type": "code",
   "execution_count": 110,
   "metadata": {},
   "outputs": [
    {
     "data": {
      "text/plain": [
       "title\n",
       "Mr          517\n",
       "Miss        185\n",
       "Mrs         128\n",
       "Master       40\n",
       "Dr            7\n",
       "Rev           6\n",
       "Military      5\n",
       "Sir           3\n",
       "Name: count, dtype: int64"
      ]
     },
     "execution_count": 110,
     "metadata": {},
     "output_type": "execute_result"
    }
   ],
   "source": [
    "# \n",
    "title_mapping = {\n",
    "    'Mme' : 'Mrs',\n",
    "    'Mlle': 'Miss',\n",
    "    'Ms' : 'Miss',\n",
    "    'Don' : 'Sir',\n",
    "    'Jonkheer':'Sir',\n",
    "    'Major':'Military',\n",
    "    'Capt': 'Military',\n",
    "    'the' : 'Mrs',\n",
    "    'Lady': 'Mrs',\n",
    "    'Col' : 'Military'\n",
    "}\n",
    "\n",
    "train_data['title'] = train_data['title'].replace(title_mapping)\n",
    "train_data['title'].value_counts()\n"
   ]
  },
  {
   "cell_type": "markdown",
   "metadata": {},
   "source": [
    "### 4. Check correlation with target"
   ]
  },
  {
   "cell_type": "code",
   "execution_count": 111,
   "metadata": {},
   "outputs": [
    {
     "data": {
      "image/png": "[encoded data removed]",
      "text/plain": [
       "<Figure size 640x480 with 1 Axes>"
      ]
     },
     "metadata": {},
     "output_type": "display_data"
    }
   ],
   "source": [
    "# Barplot\n",
    "pd.crosstab(train_data['title'], train_data['Survived'], normalize='index').plot(kind='bar', stacked=True)\n",
    "plt.show()\n",
    "\n",
    "# It seems that some titles have a higher survival rate than others. However, it is not \n",
    "# clear if this is to the title itself or for others factors as Age or Sex."
   ]
  },
  {
   "cell_type": "markdown",
   "metadata": {},
   "source": [
    "### 5. Multivariate Analysis"
   ]
  },
  {
   "cell_type": "code",
   "execution_count": 146,
   "metadata": {},
   "outputs": [
    {
     "name": "stdout",
     "output_type": "stream",
     "text": [
      "Warning: Maximum number of iterations has been exceeded.\n",
      "         Current function value: 0.434133\n",
      "         Iterations: 35\n",
      "                           Logit Regression Results                           \n",
      "==============================================================================\n",
      "Dep. Variable:               Survived   No. Observations:                  891\n",
      "Model:                          Logit   Df Residuals:                      880\n",
      "Method:                           MLE   Df Model:                           10\n",
      "Date:                Wed, 23 Oct 2024   Pseudo R-squ.:                  0.3481\n",
      "Time:                        05:45:51   Log-Likelihood:                -386.81\n",
      "converged:                      False   LL-Null:                       -593.33\n",
      "Covariance Type:            nonrobust   LLR p-value:                 1.583e-82\n",
      "==================================================================================\n",
      "                     coef    std err          z      P>|z|      [0.025      0.975]\n",
      "----------------------------------------------------------------------------------\n",
      "const              0.7306      0.864      0.845      0.398      -0.963       2.425\n",
      "Age2              -0.0180      0.008     -2.123      0.034      -0.035      -0.001\n",
      "Pclass_2          -1.1363      0.274     -4.152      0.000      -1.673      -0.600\n",
      "Pclass_3          -2.3329      0.252     -9.268      0.000      -2.826      -1.840\n",
      "title_Master       1.6641      0.900      1.849      0.064      -0.100       3.428\n",
      "title_Military    -0.1202      1.215     -0.099      0.921      -2.501       2.261\n",
      "title_Miss         2.2425      0.826      2.713      0.007       0.623       3.862\n",
      "title_Mr          -0.4805      0.802     -0.599      0.549      -2.052       1.091\n",
      "title_Mrs          2.6466      0.833      3.178      0.001       1.014       4.279\n",
      "title_Rev        -17.3266   4216.352     -0.004      0.997   -8281.224    8246.571\n",
      "title_Sir         -0.6635      1.458     -0.455      0.649      -3.521       2.194\n",
      "==================================================================================\n"
     ]
    },
    {
     "name": "stderr",
     "output_type": "stream",
     "text": [
      "/home/gonzalo/Documents/notes/p-ds-structure-01/venv/lib/python3.10/site-packages/statsmodels/base/model.py:607: ConvergenceWarning: Maximum Likelihood optimization failed to converge. Check mle_retvals\n",
      "  warnings.warn(\"Maximum Likelihood optimization failed to \"\n"
     ]
    }
   ],
   "source": [
    "# LR version 1\n",
    "from sklearn.impute import SimpleImputer\n",
    "import statsmodels.api as sm\n",
    "\n",
    "imputer_age_mean = SimpleImputer(strategy='mean')\n",
    "imputer_age_mean.fit(train_data['Age'].values.reshape(-1, 1))\n",
    "train_data['Age2'] = imputer_age_mean.transform(train_data['Age'].values.reshape(-1, 1))\n",
    "\n",
    "x = pd.get_dummies(train_data, columns=['Pclass', 'title'], drop_first=True)\n",
    "\n",
    "\n",
    "x = x[['Age2', 'Pclass_2', 'Pclass_3',\n",
    "       'title_Master', 'title_Military', 'title_Miss', 'title_Mr', 'title_Mrs',\n",
    "       'title_Rev', 'title_Sir']].astype('float')\n",
    "x = sm.add_constant(x)\n",
    "y = train_data['Survived']\n",
    "\n",
    "model = sm.Logit(y,x).fit()\n",
    "print(model.summary())"
   ]
  },
  {
   "cell_type": "code",
   "execution_count": 147,
   "metadata": {},
   "outputs": [
    {
     "name": "stdout",
     "output_type": "stream",
     "text": [
      "Warning: Maximum number of iterations has been exceeded.\n",
      "         Current function value: 0.492649\n",
      "         Iterations: 35\n",
      "                           Logit Regression Results                           \n",
      "==============================================================================\n",
      "Dep. Variable:               Survived   No. Observations:                  891\n",
      "Model:                          Logit   Df Residuals:                      883\n",
      "Method:                           MLE   Df Model:                            7\n",
      "Date:                Wed, 23 Oct 2024   Pseudo R-squ.:                  0.2602\n",
      "Time:                        05:47:15   Log-Likelihood:                -438.95\n",
      "converged:                      False   LL-Null:                       -593.33\n",
      "Covariance Type:            nonrobust   LLR p-value:                 8.159e-63\n",
      "==================================================================================\n",
      "                     coef    std err          z      P>|z|      [0.025      0.975]\n",
      "----------------------------------------------------------------------------------\n",
      "const             -0.2877      0.764     -0.377      0.706      -1.785       1.209\n",
      "title_Master       0.5900      0.828      0.712      0.476      -1.033       2.213\n",
      "title_Military    -0.1178      1.190     -0.099      0.921      -2.451       2.215\n",
      "title_Miss         1.1479      0.781      1.471      0.141      -0.382       2.678\n",
      "title_Mr          -1.3955      0.773     -1.805      0.071      -2.911       0.120\n",
      "title_Mrs          1.6546      0.795      2.082      0.037       0.097       3.212\n",
      "title_Rev        -21.7837   2.53e+04     -0.001      0.999   -4.97e+04    4.96e+04\n",
      "title_Sir         -0.4055      1.443     -0.281      0.779      -3.234       2.423\n",
      "==================================================================================\n"
     ]
    },
    {
     "name": "stderr",
     "output_type": "stream",
     "text": [
      "/home/gonzalo/Documents/notes/p-ds-structure-01/venv/lib/python3.10/site-packages/statsmodels/base/model.py:607: ConvergenceWarning: Maximum Likelihood optimization failed to converge. Check mle_retvals\n",
      "  warnings.warn(\"Maximum Likelihood optimization failed to \"\n"
     ]
    }
   ],
   "source": [
    "# Logistic Regression version 2\n",
    "from sklearn.impute import SimpleImputer\n",
    "import statsmodels.api as sm\n",
    "\n",
    "imputer_age_mean = SimpleImputer(strategy='mean')\n",
    "imputer_age_mean.fit(train_data['Age'].values.reshape(-1, 1))\n",
    "train_data['Age2'] = imputer_age_mean.transform(train_data['Age'].values.reshape(-1, 1))\n",
    "\n",
    "x = pd.get_dummies(train_data, columns=['Pclass', 'title'], drop_first=True)\n",
    "\n",
    "\n",
    "x = x[['title_Master', 'title_Military', 'title_Miss', 'title_Mr', 'title_Mrs',\n",
    "       'title_Rev', 'title_Sir']].astype('float')\n",
    "x = sm.add_constant(x)\n",
    "y = train_data['Survived']\n",
    "\n",
    "model = sm.Logit(y,x).fit()\n",
    "print(model.summary())"
   ]
  },
  {
   "cell_type": "code",
   "execution_count": 148,
   "metadata": {},
   "outputs": [],
   "source": [
    "# It seems that Mrs. is a good predictor of survival, \n",
    "# at leat. The other titles seems to be not significant.\n",
    "\n",
    "# INSIGHT-1: The title Mrs. is a good predictor of survival. "
   ]
  },
  {
   "cell_type": "markdown",
   "metadata": {},
   "source": [
    "### Results\n",
    "\n",
    "- INSIGHT-1: The title Mrs. is a good predictor of survival. \n",
    "\n",
    "We add title to the model. However, we have to prioritize Mrs., and Miss. We need to consider different possibilities of preprocessing, At least `['title_Master', 'title_Military', 'title_Miss', 'title_Mr', 'title_Mrs','title_Rev', 'title_Sir']` and `['title_Miss', 'title_Mrs','others']`.\n"
   ]
  },
  {
   "cell_type": "markdown",
   "metadata": {},
   "source": []
  }
 ],
 "metadata": {
  "kernelspec": {
   "display_name": "venv",
   "language": "python",
   "name": "python3"
  },
  "language_info": {
   "codemirror_mode": {
    "name": "ipython",
    "version": 3
   },
   "file_extension": ".py",
   "mimetype": "text/x-python",
   "name": "python",
   "nbconvert_exporter": "python",
   "pygments_lexer": "ipython3",
   "version": "3.10.12"
  }
 },
 "nbformat": 4,
 "nbformat_minor": 2
}
