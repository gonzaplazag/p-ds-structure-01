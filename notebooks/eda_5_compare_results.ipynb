{
 "cells": [
  {
   "cell_type": "code",
   "execution_count": 1,
   "metadata": {},
   "outputs": [],
   "source": [
    "import pandas as pd\n",
    "from dotenv import load_dotenv\n",
    "import os\n",
    "from sklearn.model_selection import train_test_split\n",
    "from sklearn.preprocessing import OneHotEncoder\n",
    "from datetime import datetime\n",
    "import pickle\n",
    "from sklearn.impute import SimpleImputer\n",
    "import json\n",
    "\n",
    "load_dotenv()\n",
    "\n",
    "os.chdir(os.getenv('ROOT_DIR'))\n",
    "\n",
    "from src import utils"
   ]
  },
  {
   "cell_type": "code",
   "execution_count": 6,
   "metadata": {},
   "outputs": [
    {
     "name": "stdout",
     "output_type": "stream",
     "text": [
      "Not found: artifacts/model_01b_predict/results.json\n"
     ]
    }
   ],
   "source": [
    "res = []\n",
    "for i in range(1, 5):\n",
    "\tpath = os.path.join(os.getenv('ARTIFACTS_PATH'), f'model_0{i}b_predict', 'results.json')\n",
    "\n",
    "\ttry:\n",
    "\t\twith open(path, 'r') as f:\n",
    "\t\t\tpartial = json.load(f)\n",
    "\t\t\tres.append(partial)\n",
    "\texcept:\n",
    "\t\tprint(f'Not found: {path}')"
   ]
  },
  {
   "cell_type": "code",
   "execution_count": 8,
   "metadata": {},
   "outputs": [
    {
     "data": {
      "text/html": [
       "<div>\n",
       "<style scoped>\n",
       "    .dataframe tbody tr th:only-of-type {\n",
       "        vertical-align: middle;\n",
       "    }\n",
       "\n",
       "    .dataframe tbody tr th {\n",
       "        vertical-align: top;\n",
       "    }\n",
       "\n",
       "    .dataframe thead th {\n",
       "        text-align: right;\n",
       "    }\n",
       "</style>\n",
       "<table border=\"1\" class=\"dataframe\">\n",
       "  <thead>\n",
       "    <tr style=\"text-align: right;\">\n",
       "      <th></th>\n",
       "      <th>model_id</th>\n",
       "      <th>prep_id</th>\n",
       "      <th>public_score</th>\n",
       "      <th>date</th>\n",
       "      <th>comment</th>\n",
       "    </tr>\n",
       "  </thead>\n",
       "  <tbody>\n",
       "    <tr>\n",
       "      <th>0</th>\n",
       "      <td>model_02</td>\n",
       "      <td>prep_02</td>\n",
       "      <td>0.76555</td>\n",
       "      <td>2024-10-15 17:30:34</td>\n",
       "      <td>NaN</td>\n",
       "    </tr>\n",
       "    <tr>\n",
       "      <th>1</th>\n",
       "      <td>model_03</td>\n",
       "      <td>prep_03</td>\n",
       "      <td>0.75837</td>\n",
       "      <td>2024-10-16 07:14:05</td>\n",
       "      <td>overfitting with respect model02b_predict</td>\n",
       "    </tr>\n",
       "    <tr>\n",
       "      <th>2</th>\n",
       "      <td>model_04</td>\n",
       "      <td>prep_04</td>\n",
       "      <td>0.78468</td>\n",
       "      <td>2024-10-23 06:17:20</td>\n",
       "      <td>Improvement from model03b_predict</td>\n",
       "    </tr>\n",
       "  </tbody>\n",
       "</table>\n",
       "</div>"
      ],
      "text/plain": [
       "   model_id  prep_id  public_score                 date  \\\n",
       "0  model_02  prep_02       0.76555  2024-10-15 17:30:34   \n",
       "1  model_03  prep_03       0.75837  2024-10-16 07:14:05   \n",
       "2  model_04  prep_04       0.78468  2024-10-23 06:17:20   \n",
       "\n",
       "                                     comment  \n",
       "0                                        NaN  \n",
       "1  overfitting with respect model02b_predict  \n",
       "2          Improvement from model03b_predict  "
      ]
     },
     "execution_count": 8,
     "metadata": {},
     "output_type": "execute_result"
    }
   ],
   "source": [
    "pd.DataFrame.from_dict(res)"
   ]
  }
 ],
 "metadata": {
  "kernelspec": {
   "display_name": "venv",
   "language": "python",
   "name": "python3"
  },
  "language_info": {
   "codemirror_mode": {
    "name": "ipython",
    "version": 3
   },
   "file_extension": ".py",
   "mimetype": "text/x-python",
   "name": "python",
   "nbconvert_exporter": "python",
   "pygments_lexer": "ipython3",
   "version": "3.10.12"
  }
 },
 "nbformat": 4,
 "nbformat_minor": 2
}
