{
 "cells": [
  {
   "cell_type": "code",
   "execution_count": 2,
   "metadata": {},
   "outputs": [],
   "source": [
    "import pandas as pd\n",
    "from dotenv import load_dotenv\n",
    "import os\n",
    "\n",
    "load_dotenv()\n",
    "os.chdir(os.getenv(\"ROOT_DIR\"))"
   ]
  },
  {
   "cell_type": "code",
   "execution_count": 5,
   "metadata": {},
   "outputs": [
    {
     "name": "stdout",
     "output_type": "stream",
     "text": [
      "data/raw/train.csv\n"
     ]
    }
   ],
   "source": [
    "# --- Parameters ---\n",
    "df_train_path = os.getenv(\"DF_TRAIN_PATH\")\n",
    "df_test_path = os.getenv(\"DF_NEW_DATA_PATH\")\n",
    "\n",
    "print(df_train_path)"
   ]
  },
  {
   "cell_type": "markdown",
   "metadata": {},
   "source": [
    "### General"
   ]
  },
  {
   "cell_type": "code",
   "execution_count": 6,
   "metadata": {},
   "outputs": [],
   "source": [
    "df_train = pd.read_csv(df_train_path)\n",
    "df_test = pd.read_csv(df_test_path)"
   ]
  },
  {
   "cell_type": "code",
   "execution_count": 8,
   "metadata": {},
   "outputs": [
    {
     "data": {
      "text/html": [
       "<div>\n",
       "<style scoped>\n",
       "    .dataframe tbody tr th:only-of-type {\n",
       "        vertical-align: middle;\n",
       "    }\n",
       "\n",
       "    .dataframe tbody tr th {\n",
       "        vertical-align: top;\n",
       "    }\n",
       "\n",
       "    .dataframe thead th {\n",
       "        text-align: right;\n",
       "    }\n",
       "</style>\n",
       "<table border=\"1\" class=\"dataframe\">\n",
       "  <thead>\n",
       "    <tr style=\"text-align: right;\">\n",
       "      <th></th>\n",
       "      <th>PassengerId</th>\n",
       "      <th>Survived</th>\n",
       "      <th>Pclass</th>\n",
       "      <th>Name</th>\n",
       "      <th>Sex</th>\n",
       "      <th>Age</th>\n",
       "      <th>SibSp</th>\n",
       "      <th>Parch</th>\n",
       "      <th>Ticket</th>\n",
       "      <th>Fare</th>\n",
       "      <th>Cabin</th>\n",
       "      <th>Embarked</th>\n",
       "    </tr>\n",
       "  </thead>\n",
       "  <tbody>\n",
       "    <tr>\n",
       "      <th>0</th>\n",
       "      <td>1</td>\n",
       "      <td>0</td>\n",
       "      <td>3</td>\n",
       "      <td>Braund, Mr. Owen Harris</td>\n",
       "      <td>male</td>\n",
       "      <td>22.0</td>\n",
       "      <td>1</td>\n",
       "      <td>0</td>\n",
       "      <td>A/5 21171</td>\n",
       "      <td>7.2500</td>\n",
       "      <td>NaN</td>\n",
       "      <td>S</td>\n",
       "    </tr>\n",
       "    <tr>\n",
       "      <th>1</th>\n",
       "      <td>2</td>\n",
       "      <td>1</td>\n",
       "      <td>1</td>\n",
       "      <td>Cumings, Mrs. John Bradley (Florence Briggs Th...</td>\n",
       "      <td>female</td>\n",
       "      <td>38.0</td>\n",
       "      <td>1</td>\n",
       "      <td>0</td>\n",
       "      <td>PC 17599</td>\n",
       "      <td>71.2833</td>\n",
       "      <td>C85</td>\n",
       "      <td>C</td>\n",
       "    </tr>\n",
       "  </tbody>\n",
       "</table>\n",
       "</div>"
      ],
      "text/plain": [
       "   PassengerId  Survived  Pclass  \\\n",
       "0            1         0       3   \n",
       "1            2         1       1   \n",
       "\n",
       "                                                Name     Sex   Age  SibSp  \\\n",
       "0                            Braund, Mr. Owen Harris    male  22.0      1   \n",
       "1  Cumings, Mrs. John Bradley (Florence Briggs Th...  female  38.0      1   \n",
       "\n",
       "   Parch     Ticket     Fare Cabin Embarked  \n",
       "0      0  A/5 21171   7.2500   NaN        S  \n",
       "1      0   PC 17599  71.2833   C85        C  "
      ]
     },
     "execution_count": 8,
     "metadata": {},
     "output_type": "execute_result"
    }
   ],
   "source": [
    "df_train = pd.read_csv(df_train_path)\n",
    "df_train.head(2)"
   ]
  },
  {
   "cell_type": "code",
   "execution_count": 10,
   "metadata": {},
   "outputs": [
    {
     "name": "stdout",
     "output_type": "stream",
     "text": [
      "<class 'pandas.core.frame.DataFrame'>\n",
      "RangeIndex: 891 entries, 0 to 890\n",
      "Data columns (total 12 columns):\n",
      " #   Column       Non-Null Count  Dtype  \n",
      "---  ------       --------------  -----  \n",
      " 0   PassengerId  891 non-null    int64  \n",
      " 1   Survived     891 non-null    int64  \n",
      " 2   Pclass       891 non-null    int64  \n",
      " 3   Name         891 non-null    object \n",
      " 4   Sex          891 non-null    object \n",
      " 5   Age          714 non-null    float64\n",
      " 6   SibSp        891 non-null    int64  \n",
      " 7   Parch        891 non-null    int64  \n",
      " 8   Ticket       891 non-null    object \n",
      " 9   Fare         891 non-null    float64\n",
      " 10  Cabin        204 non-null    object \n",
      " 11  Embarked     889 non-null    object \n",
      "dtypes: float64(2), int64(5), object(5)\n",
      "memory usage: 83.7+ KB\n"
     ]
    }
   ],
   "source": [
    "df_train.info()\n",
    "\n",
    "# 891 datapoints, 12 cols.\n",
    "# 10 are features, 1 is the target and 1 the index \n",
    "# Age, Cabin and Embarked have missing values (3 features)\n",
    "# Categorical features: Pclass, Name, Sex, Ticket, Cabin, Embarked (6 features)"
   ]
  },
  {
   "cell_type": "code",
   "execution_count": 14,
   "metadata": {},
   "outputs": [
    {
     "name": "stdout",
     "output_type": "stream",
     "text": [
      "<class 'pandas.core.frame.DataFrame'>\n",
      "RangeIndex: 418 entries, 0 to 417\n",
      "Data columns (total 11 columns):\n",
      " #   Column       Non-Null Count  Dtype  \n",
      "---  ------       --------------  -----  \n",
      " 0   PassengerId  418 non-null    int64  \n",
      " 1   Pclass       418 non-null    int64  \n",
      " 2   Name         418 non-null    object \n",
      " 3   Sex          418 non-null    object \n",
      " 4   Age          332 non-null    float64\n",
      " 5   SibSp        418 non-null    int64  \n",
      " 6   Parch        418 non-null    int64  \n",
      " 7   Ticket       418 non-null    object \n",
      " 8   Fare         417 non-null    float64\n",
      " 9   Cabin        91 non-null     object \n",
      " 10  Embarked     418 non-null    object \n",
      "dtypes: float64(2), int64(4), object(5)\n",
      "memory usage: 36.0+ KB\n"
     ]
    }
   ],
   "source": [
    "df_test.info()\n",
    "\n",
    "# 418 datapoints to predict, 11 cols.\n",
    "# The same features as the training set, except the target"
   ]
  },
  {
   "cell_type": "code",
   "execution_count": 15,
   "metadata": {},
   "outputs": [],
   "source": [
    "# Project\n",
    "# 1. Analize Sex\n",
    "## 1.1. Check consistency.\n",
    "## 1.2. Check distribution.\n",
    "## 1.3. Check correlation with target."
   ]
  },
  {
   "cell_type": "markdown",
   "metadata": {},
   "source": [
    "### Sex variable"
   ]
  },
  {
   "cell_type": "code",
   "execution_count": 20,
   "metadata": {},
   "outputs": [
    {
     "data": {
      "text/plain": [
       "array(['male', 'female'], dtype=object)"
      ]
     },
     "execution_count": 20,
     "metadata": {},
     "output_type": "execute_result"
    }
   ],
   "source": [
    "## 1.1. Check consistency\n",
    "df_train.Sex.unique()"
   ]
  },
  {
   "cell_type": "code",
   "execution_count": 22,
   "metadata": {},
   "outputs": [
    {
     "data": {
      "text/plain": [
       "array(['male', 'female'], dtype=object)"
      ]
     },
     "execution_count": 22,
     "metadata": {},
     "output_type": "execute_result"
    }
   ],
   "source": [
    "df_test.Sex.unique()"
   ]
  },
  {
   "cell_type": "code",
   "execution_count": 21,
   "metadata": {},
   "outputs": [
    {
     "data": {
      "text/plain": [
       "Sex\n",
       "male      577\n",
       "female    314\n",
       "Name: count, dtype: int64"
      ]
     },
     "execution_count": 21,
     "metadata": {},
     "output_type": "execute_result"
    }
   ],
   "source": [
    "## 1.2. Check distribution\n",
    "df_train.Sex.value_counts()"
   ]
  },
  {
   "cell_type": "code",
   "execution_count": 23,
   "metadata": {},
   "outputs": [
    {
     "data": {
      "text/plain": [
       "Sex\n",
       "male      266\n",
       "female    152\n",
       "Name: count, dtype: int64"
      ]
     },
     "execution_count": 23,
     "metadata": {},
     "output_type": "execute_result"
    }
   ],
   "source": [
    "df_test.Sex.value_counts()"
   ]
  },
  {
   "cell_type": "code",
   "execution_count": null,
   "metadata": {},
   "outputs": [],
   "source": [
    "# More men than women in both datasets."
   ]
  },
  {
   "cell_type": "code",
   "execution_count": 87,
   "metadata": {},
   "outputs": [],
   "source": [
    "## 1.3. Check correlation with target\n",
    "\n",
    "## Methods: statistical:\n",
    "\t# 1. Contingency table\n",
    "\t# 2. Chi-square test if independence\n",
    "\t# 3. Cramers V for correlation\n",
    "\t# 4. Phi coefficient for correlation\n",
    "\t# 5. Logistic regression (coefficients=log-odds)\n",
    "\t# 6. Odds ratio\n",
    "\t# 7. Fisher's exact test\n",
    "\t# 8. Jaccard Similarity score\n",
    "\n",
    "## Methods: visual:\n",
    "\t# 1. Stacked bar chart\n",
    "\t# 2. Heatmap on contingency table\n",
    "\t# 3. Mosaic plot\n",
    "\t# 4. Venn diagram\n",
    "\t# 5. Decision tree plot.\n",
    "\n",
    "## Methodology for 2 binary variables:\n",
    "\t# 1. Contingency table\n",
    "\t# 2. Stacked bar chart\n",
    "\t#.3. (optional) in some context one between: chi-square, fisher's exact test, odds ratio, logistic regression.\n",
    "\t# 4. (optional) in some context one between: cramers V, phi coefficient, jaccard similarity score.\n",
    "\t# 5. (optional) to plot: heatmap, mosaic plot, venn diagram, decision tree plot.\n",
    "\t# 6. Show results verbally.\n",
    "\t"
   ]
  },
  {
   "cell_type": "code",
   "execution_count": 27,
   "metadata": {},
   "outputs": [
    {
     "data": {
      "text/html": [
       "<div>\n",
       "<style scoped>\n",
       "    .dataframe tbody tr th:only-of-type {\n",
       "        vertical-align: middle;\n",
       "    }\n",
       "\n",
       "    .dataframe tbody tr th {\n",
       "        vertical-align: top;\n",
       "    }\n",
       "\n",
       "    .dataframe thead th {\n",
       "        text-align: right;\n",
       "    }\n",
       "</style>\n",
       "<table border=\"1\" class=\"dataframe\">\n",
       "  <thead>\n",
       "    <tr style=\"text-align: right;\">\n",
       "      <th>Survived</th>\n",
       "      <th>0</th>\n",
       "      <th>1</th>\n",
       "    </tr>\n",
       "    <tr>\n",
       "      <th>Sex</th>\n",
       "      <th></th>\n",
       "      <th></th>\n",
       "    </tr>\n",
       "  </thead>\n",
       "  <tbody>\n",
       "    <tr>\n",
       "      <th>female</th>\n",
       "      <td>0.257962</td>\n",
       "      <td>0.742038</td>\n",
       "    </tr>\n",
       "    <tr>\n",
       "      <th>male</th>\n",
       "      <td>0.811092</td>\n",
       "      <td>0.188908</td>\n",
       "    </tr>\n",
       "  </tbody>\n",
       "</table>\n",
       "</div>"
      ],
      "text/plain": [
       "Survived         0         1\n",
       "Sex                         \n",
       "female    0.257962  0.742038\n",
       "male      0.811092  0.188908"
      ]
     },
     "execution_count": 27,
     "metadata": {},
     "output_type": "execute_result"
    }
   ],
   "source": [
    "### Contingency table\n",
    "### Contingency table display the frequency of each combination of the levels of two categorical variables.\n",
    "pd.crosstab(df_train.Sex, df_train.Survived, normalize=\"index\")\n",
    "\n",
    "# 74% of women survived, while only 18% men do it. \n",
    "# INSIGHT 1: Sex is a good predictor of survival."
   ]
  },
  {
   "cell_type": "code",
   "execution_count": 30,
   "metadata": {},
   "outputs": [
    {
     "name": "stdout",
     "output_type": "stream",
     "text": [
      "Chi2 statistic: 260.71702016732104, p-value: 1.1973570627755645e-58\n"
     ]
    }
   ],
   "source": [
    "### Chi-Square Test of independence\n",
    "### Statistical test to check it two categorical variables are independent or not. The test is based\n",
    "### on the difference between expected frequencies under independence and the observed frequencies.\n",
    "\n",
    "from scipy.stats import chi2_contingency\n",
    "\n",
    "contingency_table = pd.crosstab(df_train.Sex, df_train.Survived)\n",
    "chi2, p, dof, expected = chi2_contingency(contingency_table)\n",
    "\n",
    "print(f\"Chi2 statistic: {chi2}, p-value: {p}\")\n",
    "\n",
    "# p-value < 0.05, so we reject the null hypothesis of independence.\n",
    "# INSIGHT 2: reinforces insight 1. There is a significant association between variables, so Sex is a good predictor of survival."
   ]
  },
  {
   "cell_type": "code",
   "execution_count": 33,
   "metadata": {},
   "outputs": [
    {
     "name": "stdout",
     "output_type": "stream",
     "text": [
      "Cramer's V: 0.5409359434469282\n"
     ]
    }
   ],
   "source": [
    "### Cramer's V Test\n",
    "### Cramer's V is a measure if association between two categorical variables.\n",
    "### it ranges from 0 to 1, where 0 means no association and 1 a strong association.\n",
    "import numpy as np \n",
    "\n",
    "n = contingency_table.sum().sum()\n",
    "cramers_v = np.sqrt(chi2 / (n * (min(contingency_table.shape) - 1)))\n",
    "print(f\"Cramer's V: {cramers_v}\")\n",
    "\n",
    "# Cramer's V is 0.54, so there is a relatively strong association between varibles.\n",
    "# At least, it discards the indepence hypothesis."
   ]
  },
  {
   "cell_type": "code",
   "execution_count": 46,
   "metadata": {},
   "outputs": [
    {
     "name": "stdout",
     "output_type": "stream",
     "text": [
      "Phi Coefficient: -0.5433513806577551\n"
     ]
    }
   ],
   "source": [
    "### D. Phi coefficient\n",
    "### Equivalent to Pearson correlation coefficient, for binary categorical varibles.\n",
    "### It ranges from -1 to 1, where -1 means a perfect negative association, 0 no association \n",
    "### and 1 a perfect positive association.\n",
    "\n",
    "import math\n",
    "\n",
    "contingency_table = pd.crosstab(df_train.Sex, df_train.Survived)\n",
    "a = contingency_table.iloc[0, 0]\n",
    "b = contingency_table.iloc[0, 1]\n",
    "c = contingency_table.iloc[1, 0]\n",
    "d = contingency_table.iloc[1, 1]\n",
    "\n",
    "phi = (a * d - b * c) / math.sqrt((a + b) * (c + d) * (a + c) * (b + d))\n",
    "print(f\"Phi Coefficient: {phi}\")\n",
    "\n",
    "# Phi coefficient reinforces insight 1. There is association between variables."
   ]
  },
  {
   "cell_type": "code",
   "execution_count": 67,
   "metadata": {},
   "outputs": [
    {
     "name": "stdout",
     "output_type": "stream",
     "text": [
      "Optimization terminated successfully.\n",
      "         Current function value: 0.515041\n",
      "         Iterations 5\n",
      "                           Logit Regression Results                           \n",
      "==============================================================================\n",
      "Dep. Variable:               Survived   No. Observations:                  891\n",
      "Model:                          Logit   Df Residuals:                      889\n",
      "Method:                           MLE   Df Model:                            1\n",
      "Date:                Sat, 12 Oct 2024   Pseudo R-squ.:                  0.2266\n",
      "Time:                        09:44:31   Log-Likelihood:                -458.90\n",
      "converged:                       True   LL-Null:                       -593.33\n",
      "Covariance Type:            nonrobust   LLR p-value:                 2.020e-60\n",
      "==============================================================================\n",
      "                 coef    std err          z      P>|z|      [0.025      0.975]\n",
      "------------------------------------------------------------------------------\n",
      "const          1.0566      0.129      8.191      0.000       0.804       1.309\n",
      "0             -2.5137      0.167    -15.036      0.000      -2.841      -2.186\n",
      "==============================================================================\n"
     ]
    }
   ],
   "source": [
    "### Logistic Regression coeficients\n",
    "import statsmodels.api as sm\n",
    "\n",
    "x = df_train.Sex.astype('category').cat.codes # independent variable\n",
    "y = df_train.Survived.astype('category') # dependent variable\n",
    "\n",
    "x = sm.add_constant(x)\n",
    "\n",
    "model = sm.Logit(y, x).fit()\n",
    "print(model.summary())\n",
    "\n",
    "# --- Logistic Regression ---\n",
    "\n",
    "# obs: 1=male, 1=survived\n",
    "\n",
    "# Dep. Variable: dependent variable\n",
    "# Model: model used. Logit is a logistic regression model.\n",
    "# Method: optimization algorithm used to fit the model. MLE is the maximum likelihood estimation.\n",
    "# Df residuals: degree of fredom of residuals. (No obs - No parameters)\n",
    "# Df model: degree of freedom of the model. (No parameters - 1)\n",
    "\n",
    "# Pseudo R-squared: measure of how well the model fits the data.\n",
    "# It ranges from 0 to 1, where 0 means the model does not fit the data and 1 the model fits perfectly.\n",
    "# Unlike R-squared, it does not have a unique definition or clear interpretation. Use it carefully.T\n",
    "\n",
    "# Log-Likelihood: measure of goodness of fit. Larger values are better.\n",
    "\n",
    "# LL-Null: log-likelihood of a model that does not include any predictors, only the intercept. It\n",
    "# is used to get the goodness of fit of the model. It should be compared with the log-likelihood of the model,\n",
    "# to check if the model is better than a model that does not include any predictors.\n",
    "\n",
    "# LLR p-value: p-value from the likelihood ratio test.\n",
    "# p-value small (less than 0.05) means that the model is better than a \n",
    "# model that does not include any predictors.\n",
    "\n",
    "# Coef: coefficients of the model. They represent the log-odds of the dependent variable:\n",
    "# In this case coef=-2.5 means that as the independent variable increases by 1 unit (pass from women to men)\n",
    "# the log-odds of the dependent variable decrease by 2.5 units.\n",
    "\n",
    "# Z: z-score of the coefficients. It is used to test the null hypothesis that the coefficient is equal to zero.\n",
    "\n",
    "# P>|z|: p-value of the z-score. It is used to test the null hypothesis that the coefficient is equal to zero.\n",
    "# A small p-value (less than 0.05) means that the coefficient is significantly different from zero.\n",
    "\n",
    "# [0.025 0.975]: 95% confidence interval of the coefficients.\n",
    "\n",
    "# ------------------# \n",
    "\n",
    "# The relevant info here is:\n",
    "# 1. Coef: -2.5, small p-value. Men (= 1) implies a decrease in the log-odds of survival.\n",
    "# 2. LLR p-value: small. The model is better than a model that does not include any predictors. So, \n",
    "# the variable Sex do something.\n",
    "\n",
    "# It reinforces insight 1."
   ]
  },
  {
   "cell_type": "code",
   "execution_count": 69,
   "metadata": {},
   "outputs": [
    {
     "name": "stdout",
     "output_type": "stream",
     "text": [
      "Odds Ratio: 0.08096731594585671\n"
     ]
    }
   ],
   "source": [
    "### Odds Ratio\n",
    "\n",
    "contingency_table = pd.crosstab(df_train.Sex, df_train.Survived)\n",
    "a = contingency_table.iloc[0, 0]\n",
    "b = contingency_table.iloc[0, 1]\n",
    "c = contingency_table.iloc[1, 0]\n",
    "d = contingency_table.iloc[1, 1]\n",
    "\n",
    "odds_ratio = (a / b) / (c / d)\n",
    "print(f\"Odds Ratio: {odds_ratio}\")\n",
    "\n",
    "# Measure of association between two binary variables. \n",
    "# It tells us how much more (or less) likely one event is to occur \n",
    "# in presence of the other event.\n",
    "\n",
    "# Odds ratio greater than 1 means positive association."
   ]
  },
  {
   "cell_type": "code",
   "execution_count": 70,
   "metadata": {},
   "outputs": [
    {
     "data": {
      "text/html": [
       "<div>\n",
       "<style scoped>\n",
       "    .dataframe tbody tr th:only-of-type {\n",
       "        vertical-align: middle;\n",
       "    }\n",
       "\n",
       "    .dataframe tbody tr th {\n",
       "        vertical-align: top;\n",
       "    }\n",
       "\n",
       "    .dataframe thead th {\n",
       "        text-align: right;\n",
       "    }\n",
       "</style>\n",
       "<table border=\"1\" class=\"dataframe\">\n",
       "  <thead>\n",
       "    <tr style=\"text-align: right;\">\n",
       "      <th>Survived</th>\n",
       "      <th>0</th>\n",
       "      <th>1</th>\n",
       "    </tr>\n",
       "    <tr>\n",
       "      <th>Sex</th>\n",
       "      <th></th>\n",
       "      <th></th>\n",
       "    </tr>\n",
       "  </thead>\n",
       "  <tbody>\n",
       "    <tr>\n",
       "      <th>female</th>\n",
       "      <td>81</td>\n",
       "      <td>233</td>\n",
       "    </tr>\n",
       "    <tr>\n",
       "      <th>male</th>\n",
       "      <td>468</td>\n",
       "      <td>109</td>\n",
       "    </tr>\n",
       "  </tbody>\n",
       "</table>\n",
       "</div>"
      ],
      "text/plain": [
       "Survived    0    1\n",
       "Sex               \n",
       "female     81  233\n",
       "male      468  109"
      ]
     },
     "execution_count": 70,
     "metadata": {},
     "output_type": "execute_result"
    }
   ],
   "source": [
    "contingency_table"
   ]
  },
  {
   "cell_type": "code",
   "execution_count": 71,
   "metadata": {},
   "outputs": [
    {
     "name": "stdout",
     "output_type": "stream",
     "text": [
      "Odds Ratio: 0.08096731594585672, p-value: 6.463921564583144e-60\n"
     ]
    }
   ],
   "source": [
    "### Fisher's Exact Test\n",
    "\n",
    "from scipy.stats import fisher_exact\n",
    "\n",
    "# Perform Fisher's Exact Test\n",
    "contingency_table = pd.crosstab(df_train.Sex, df_train.Survived)\n",
    "odds_ratio, p_value = fisher_exact(contingency_table)\n",
    "print(f\"Odds Ratio: {odds_ratio}, p-value: {p_value}\")\n",
    "\n",
    "# Fisher's Exact test is a statistical test used to determine if there are nonrandom associations \n",
    "# between two categorical variables. It is used when the sample size is small.\n",
    "\n",
    "# It is based in odd's ratios. It is a measure of association between two binary variables.\n",
    "\n",
    "# The p-value is less than 0.05, so we reject the null hypothesis of independence.\n",
    "\n",
    "# It reinforces insight 1. p-value < 0.05, so we reject the null hypothesis of independence. There is \n",
    "# a significant association between variables."
   ]
  },
  {
   "cell_type": "code",
   "execution_count": 78,
   "metadata": {},
   "outputs": [
    {
     "name": "stdout",
     "output_type": "stream",
     "text": [
      "Jaccard Score: 0.5508274231678487\n"
     ]
    }
   ],
   "source": [
    "### Jaccard Similarity score\n",
    "\n",
    "from sklearn.metrics import jaccard_score\n",
    "\n",
    "sex = df_train.Sex.apply(lambda x: 0 if x == \"male\" else 1) # male=1. \n",
    "# obs. in jaccard the coding must be consistent with hypothesis.\n",
    "# here, male = died = 0, women=survived=1, so a positive jaccard validates this hypothesis.\n",
    "\n",
    "survived = df_train.Survived\n",
    "\n",
    "jaccard = jaccard_score(sex, survived)\n",
    "\n",
    "print(f\"Jaccard Score: {jaccard}\")\n",
    "\n",
    "# Pairwise Jaccard Similarity measures the similarity between two sets of data.\n",
    "# For binary data, it compares the similarity between two binary variables as the \n",
    "# ratio of the intersection to the union. aka: (A and B) / (A or B)\n",
    "# It ranges from 0 to 1, where 0 means no similarity and 1 perfect similarity.\n",
    "\n",
    "# It reinforces insight 1. Jaccard score is 0.54, so there is a relatively strong association between variables."
   ]
  },
  {
   "cell_type": "code",
   "execution_count": 85,
   "metadata": {},
   "outputs": [
    {
     "data": {
      "image/png": "[encoded data removed]",
      "text/plain": [
       "<Figure size 640x480 with 1 Axes>"
      ]
     },
     "metadata": {},
     "output_type": "display_data"
    }
   ],
   "source": [
    "### Venn Diagram\n",
    "\n",
    "from matplotlib_venn import venn2\n",
    "\n",
    "set_sex_male = set(df_train[df_train.Sex == 'male'].index)\n",
    "set_survived_died = set(df_train[df_train.Survived == 0].index)\n",
    "\n",
    "venn2([set_sex_male, set_survived_died], set_labels=('Sex-Male', 'Survived-died'))\n",
    "plt.show()"
   ]
  },
  {
   "cell_type": "code",
   "execution_count": 86,
   "metadata": {},
   "outputs": [
    {
     "data": {
      "image/png": "[encoded data removed]",
      "text/plain": [
       "<Figure size 640x480 with 1 Axes>"
      ]
     },
     "metadata": {},
     "output_type": "display_data"
    }
   ],
   "source": [
    "### Decision Tree Plot\n",
    "\n",
    "from sklearn.tree import DecisionTreeClassifier\n",
    "from sklearn import tree\n",
    "\n",
    "X = df_train['Sex'].astype('category').cat.codes.values.reshape(-1, 1) # men=1\n",
    "y = df_train['Survived'].astype('category').cat.codes\n",
    "\n",
    "clf = DecisionTreeClassifier().fit(X, y)\n",
    "tree.plot_tree(clf, filled=True)\n",
    "plt.show()\n"
   ]
  },
  {
   "cell_type": "code",
   "execution_count": 37,
   "metadata": {},
   "outputs": [
    {
     "data": {
      "text/plain": [
       "<Axes: xlabel='Survived', ylabel='Sex'>"
      ]
     },
     "execution_count": 37,
     "metadata": {},
     "output_type": "execute_result"
    },
    {
     "data": {
      "image/png": "[encoded data removed]",
      "text/plain": [
       "<Figure size 640x480 with 2 Axes>"
      ]
     },
     "metadata": {},
     "output_type": "display_data"
    }
   ],
   "source": [
    "### Heatmap of the contingency table\n",
    "\n",
    "import seaborn as sns\n",
    "import matplotlib.pyplot as plt\n",
    "\n",
    "contingeny_table = pd.crosstab(df_train.Sex, df_train.Survived)\n",
    "sns.heatmap(contingency_table, annot=True, cmap='Blues')\n",
    "\n",
    "### Reinforcement of insight 1. The majority of data is concentrated in female-survived \n",
    "### and male-died categories."
   ]
  },
  {
   "cell_type": "code",
   "execution_count": 39,
   "metadata": {},
   "outputs": [
    {
     "data": {
      "image/png": "[encoded data removed]",
      "text/plain": [
       "<Figure size 640x480 with 1 Axes>"
      ]
     },
     "metadata": {},
     "output_type": "display_data"
    }
   ],
   "source": [
    "### Stacked bar plot\n",
    "\n",
    "contingency_table = pd.crosstab(df_train.Sex, df_train.Survived)\n",
    "contingency_table.plot(kind='bar', stacked=True)\n",
    "plt.show()\n",
    "\n",
    "### Reinforcement of insight 1."
   ]
  },
  {
   "cell_type": "code",
   "execution_count": 44,
   "metadata": {},
   "outputs": [
    {
     "data": {
      "image/png": "[encoded data removed]",
      "text/plain": [
       "<Figure size 640x480 with 3 Axes>"
      ]
     },
     "metadata": {},
     "output_type": "display_data"
    }
   ],
   "source": [
    "### Mosaic plot\n",
    "from statsmodels.graphics.mosaicplot import mosaic\n",
    "\n",
    "mosaic(df_train, ['Sex', 'Survived'])\n",
    "plt.show()\n",
    "\n",
    "### Reinforcement of insight 1.\n",
    "### Vast majority of data is concentrated in male-died and female-survived categories."
   ]
  },
  {
   "cell_type": "code",
   "execution_count": null,
   "metadata": {},
   "outputs": [],
   "source": [
    "# Main insights:\n",
    "\n",
    "# 1. There is a significant association between Sex and survived. Men are less likely to survived than women.\n",
    "# Sex is a good predictor of for the target variable."
   ]
  }
 ],
 "metadata": {
  "kernelspec": {
   "display_name": "venv",
   "language": "python",
   "name": "python3"
  },
  "language_info": {
   "codemirror_mode": {
    "name": "ipython",
    "version": 3
   },
   "file_extension": ".py",
   "mimetype": "text/x-python",
   "name": "python",
   "nbconvert_exporter": "python",
   "pygments_lexer": "ipython3",
   "version": "3.10.12"
  }
 },
 "nbformat": 4,
 "nbformat_minor": 2
}
